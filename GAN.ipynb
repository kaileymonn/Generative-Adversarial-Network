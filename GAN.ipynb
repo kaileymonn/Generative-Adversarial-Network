{
 "cells": [
  {
   "cell_type": "markdown",
   "metadata": {
    "deletable": true,
    "editable": true
   },
   "source": [
    "# Introduction to Generative Adversarial Networks"
   ]
  },
  {
   "cell_type": "markdown",
   "metadata": {
    "deletable": true,
    "editable": true
   },
   "source": [
    "## Introduction"
   ]
  },
  {
   "cell_type": "markdown",
   "metadata": {
    "deletable": true,
    "editable": true
   },
   "source": [
    "According to Yann LeCun, “adversarial training is the coolest thing since sliced bread”. I’m inclined to believe so because I don’t think sliced bread ever created this much buzz and excitement within the deep learning community.\n",
    "\n",
    "Generative Adversarial Networks are a set of models that basically learn to create synthetic data that is similar to input data it's given. In more formal terms, a GAN is a generative model that learns the probability distribution (or data distribution) of the training examples it is given. From this distribution, we can then create sample outputs. GANs have seen their largest progress with image training examples, but this idea of modeling data distributions is one that can be applied with other forms of input. In the case described in today’s post, we’ll be creating a GAN that learns to generate synthetic, yet readable, images of MNIST digits."
   ]
  },
  {
   "cell_type": "markdown",
   "metadata": {
    "deletable": true,
    "editable": true
   },
   "source": [
    "## Basic GAN Model Architecture"
   ]
  },
  {
   "cell_type": "markdown",
   "metadata": {
    "deletable": true,
    "editable": true
   },
   "source": [
    "The basic structure of the model is simple. You have a Generator Network component and a Discriminator Network component, as shown below."
   ]
  },
  {
   "cell_type": "markdown",
   "metadata": {
    "deletable": true,
    "editable": true
   },
   "source": [
    "![\"Basic GAN Architecture\"](https://raw.githubusercontent.com/uclaacmai/Generative_Adversarial_Network_Tutorial_2018/master/gan_architecture.png)"
   ]
  },
  {
   "cell_type": "markdown",
   "metadata": {
    "deletable": true,
    "editable": true
   },
   "source": [
    "The job of the discriminator network, like the name suggests, is to discriminate between \"real\" images (like those from our dataset) from those that have been artificially created. It is implemented as a neural network, in our example below, that outputs one value representing the probability that the given image is real.\n",
    "\n",
    "The generator, on the other hand, will try to generate images to \"trick\" the disciminator, i.e. creating images that look natural or close to real. To achieve this goal, it will eventually learn to output images/data close to the original data distribution.  \n",
    "\n",
    "This can be thought of as a zero-sum or minimax two player game. The analogy used in the paper is that the generative model is like “a team of counterfeiters, trying to produce and use fake currency” while the discriminative model is like “the police, trying to detect the counterfeit currency”. The generator is trying to fool the discriminator while the discriminator is trying to not get fooled by the generator. As the models train through alternating optimization, both methods are improved until a point where the “counterfeits are indistinguishable from the genuine articles”. There are specific game theory concepts that prove there is indeed an equilibrium to this game where the generator gets so good that the discriminator outputs a probability of ½ for every input."
   ]
  },
  {
   "cell_type": "markdown",
   "metadata": {
    "deletable": true,
    "editable": true
   },
   "source": [
    "## Our Task"
   ]
  },
  {
   "cell_type": "markdown",
   "metadata": {
    "deletable": true,
    "editable": true
   },
   "source": [
    "Today, our goal is to use the MNIST data set as our \"real\" images to create a GAN model that can generate realistic images of hand drawn digits. The digits will have to look natural enough to fool a classifier that is trying to ditinguish between synthetic and natural images. Ideally, the produced images would be so realistic, that humans cannot distinguish them either.\n",
    "\n",
    "What we will need:\n",
    "\n",
    "* Real MNIST training images\n",
    "* A generator network that takes in a random noise vector and produces a synthetic image\n",
    "* A discriminator network that learns to distinguish between real and synthetic images, i.e. a binary classifier (1 for real image, 0 for fake)\n",
    "* An optimization procedure that jointly updates both networks through gradient descent.\n",
    "* Tensorflow - Our choice of Deep Learning framework\n",
    "\n",
    "Let's get started!"
   ]
  },
  {
   "cell_type": "markdown",
   "metadata": {
    "deletable": true,
    "editable": true
   },
   "source": [
    "## Initial Setup"
   ]
  },
  {
   "cell_type": "markdown",
   "metadata": {
    "deletable": true,
    "editable": true
   },
   "source": [
    "First, we must add out imports. We will mainly be working with Tensorflow, so we have to import that of course. The next line imports the MNIST data set we will be working with. Numpy is always useful when working with matrices, and in this case, to supply us with a random number generator function. Matplotlib gives us the ability to easily visualize our data as graphs."
   ]
  },
  {
   "cell_type": "code",
   "execution_count": 1,
   "metadata": {
    "collapsed": true,
    "deletable": true,
    "editable": true
   },
   "outputs": [],
   "source": [
    "# canonical import statements\n",
    "import tensorflow as tf\n",
    "from tensorflow.examples.tutorials.mnist import input_data\n",
    "import numpy as np\n",
    "import matplotlib.pyplot as plt\n",
    "import matplotlib.gridspec as gridspec\n",
    "import os"
   ]
  },
  {
   "cell_type": "markdown",
   "metadata": {
    "deletable": true,
    "editable": true
   },
   "source": [
    "#### Placeholders\n",
    "Next, we create variable placeholders for the inputs to our two models. The purpose of a placeholder is basically to tell Tensorflow \"We're going to input in our random z vector later, but for now, we're going to define this placeholder variable instead\". It lets Tensorflow know about the size of the inputs beforehand. For example, the shape of the placeholder for our generator will be [None x 100]. The None keyword means that the value can be determined at session runtime. We normally have None as our first dimension so that we can have variable batch sizes (With a batch size of 16, the input to the generator would be 16 x 100). With the None keywoard, we don't have to specify batch_size until later."
   ]
  },
  {
   "cell_type": "code",
   "execution_count": 2,
   "metadata": {
    "collapsed": true,
    "deletable": true,
    "editable": true
   },
   "outputs": [],
   "source": [
    "# images (for the discriminator)\n",
    "X = tf.placeholder(tf.float32, shape=[None, 784])\n",
    "# noise vector (for the generator)\n",
    "Z = tf.placeholder(tf.float32, shape=[None, 100])"
   ]
  },
  {
   "cell_type": "markdown",
   "metadata": {
    "deletable": true,
    "editable": true
   },
   "source": [
    "#### Weight Initialization\n",
    "Before we create our model, it's a good idea to decide on how to initialize our weights. How weights are initialized can affect how effectively our model converges. Here, we have decided to initialize them with \"Xavier initialization.\"\n",
    "\n",
    "A good motivation for this is as follows: \"With each passing layer, we want the variance to remain the same. This helps us keep the signal from exploding to a high value or vanishing to zero. In other words, we need to initialize the weights in such a way that the variance remains the same for x and y. This initialization process is known as Xavier initialization.\" You can read more about the math and intuitiion [here](https://prateekvjoshi.com/2016/03/29/understanding-xavier-initialization-in-deep-neural-networks/):\n",
    "\n",
    "Below is a function we have defined for later use to help us initialize weights from a Gaussian distribution in \"xavier\" fashion. "
   ]
  },
  {
   "cell_type": "code",
   "execution_count": 3,
   "metadata": {
    "collapsed": true,
    "deletable": true,
    "editable": true
   },
   "outputs": [],
   "source": [
    "def xavier(shape):\n",
    "    return tf.truncated_normal(shape = shape, stddev = 1.0/tf.sqrt(shape[0]/2.0)) #\"xavier\" initialization of weights"
   ]
  },
  {
   "cell_type": "markdown",
   "metadata": {
    "deletable": true,
    "editable": true
   },
   "source": [
    "## Discriminator Network"
   ]
  },
  {
   "cell_type": "markdown",
   "metadata": {
    "deletable": true,
    "editable": true
   },
   "source": [
    "![\"Discriminator Network Visual Represenation\"](https://raw.githubusercontent.com/uclaacmai/Generative_Adversarial_Network_Tutorial_2018/master/discriminator_network.png)"
   ]
  },
  {
   "cell_type": "code",
   "execution_count": 4,
   "metadata": {
    "collapsed": true
   },
   "outputs": [],
   "source": [
    "# use leaky\n",
    "def lrelu(x, alpha=0.2):\n",
    "     # non-linear activation function\n",
    "    return tf.maximum(alpha * x, x)"
   ]
  },
  {
   "cell_type": "markdown",
   "metadata": {
    "deletable": true,
    "editable": true
   },
   "source": [
    "Next, we shall create a simple neural network to act as our discriminator model. Our image we input is 28x28, so a total of 784 input data per image. Thus, our network will have an input layer of size 784, with a hidden layer of size 128, and ultimately output an layer of just 1 single scalar number activation to describe the probability that the image is real. \n",
    "\n",
    "We initialize our weights and our biases in \"__init__\" with xavier initialization for the former and setting all values to zero for the latter. Our \"discriminator\" function multiplies our weights and inputs accordingly across the layers to give an appropriate output. Finally, \"get_trainable_vars\" returns the weight and bias variables associated to the model."
   ]
  },
  {
   "cell_type": "code",
   "execution_count": 5,
   "metadata": {
    "collapsed": true,
    "deletable": true,
    "editable": true
   },
   "outputs": [],
   "source": [
    "class discriminator_network:\n",
    "    \"\"\"MNIST IMAGE(s): x * 784 -> 128 hidden units -> 1 output neuron (probability of being real)\"\"\"\n",
    "    def __init__(self):\n",
    "        self.d_w1 = tf.Variable(xavier([784,128]))\n",
    "        self.d_b1 = tf.Variable(tf.zeros(shape=[128]))\n",
    "        self.d_w2 = tf.Variable(xavier([128,1]))\n",
    "        self.d_b2 = tf.Variable(tf.zeros(shape=[1]))\n",
    "    \n",
    "    def discriminator(self, x):\n",
    "        \"\"\"Calculate D(x)\"\"\"\n",
    "        d_hfc_1 = lrelu(tf.matmul(x, self.d_w1) + self.d_b1)\n",
    "        d_logit = tf.matmul(d_hfc_1, self.d_w2) + self.d_b2\n",
    "        d_prob = tf.nn.sigmoid(d_logit) # convert the output to a probability\n",
    "        return d_prob, d_logit\n",
    "    \n",
    "    def get_trainable_vars(self):\n",
    "        return [self.d_w1, self.d_b1, self.d_w2, self.d_b2]"
   ]
  },
  {
   "cell_type": "markdown",
   "metadata": {
    "deletable": true,
    "editable": true
   },
   "source": [
    "## Generator Network"
   ]
  },
  {
   "cell_type": "markdown",
   "metadata": {
    "deletable": true,
    "editable": true
   },
   "source": [
    "The generator can be thought of as doing the \"opposite\" of the discriminator. It will be taking a random noise vector, and \"upsampling\" it to become a 28x28 \"image\" that the model learns to generate in a more realistic manner. \n",
    "\n",
    "The neural network will take an input size of 100 in its first layer, expand it into a hidden layer of size 128, and ultimately creating an output layer with the same size as the MNIST image data, 784.\n",
    "\n",
    "Once again, our \"__init__\" sets the weights and biases, the generator returns the appropriate outputs from the network, and \"get_trainable_vars\" returns the weight and bias variables of the model."
   ]
  },
  {
   "cell_type": "code",
   "execution_count": 6,
   "metadata": {
    "collapsed": true,
    "deletable": true,
    "editable": true
   },
   "outputs": [],
   "source": [
    "class generator_network:\n",
    "    \"\"\"Random noise vector (100 dim assumed) -> expand to 128 units -> output 784 units (MNIST dim)\"\"\"\n",
    "    def __init__(self):\n",
    "        self.g_w1 = tf.Variable(xavier([100, 128])) # 100d noise vector assumed. Output 128 hidden units in first layer\n",
    "        self.g_b1 = tf.Variable(tf.zeros(shape=[128]))\n",
    "        self.g_w2 = tf.Variable(xavier([128, 784])) # 784 outputs\n",
    "        self.g_b2 = tf.Variable(tf.zeros(shape=[784]))\n",
    "    \n",
    "    def generator(self, z):\n",
    "        \"\"\"Calculate and sample G(z)\"\"\"\n",
    "        g_hfc_1 = lrelu(tf.matmul(z, self.g_w1) + self.g_b1) # 100 * 128 here\n",
    "        return tf.nn.sigmoid(tf.matmul(g_hfc_1, self.g_w2) + self.g_b2)\n",
    "    \n",
    "    def get_trainable_vars(self):\n",
    "        return [self.g_w1, self.g_b1, self.g_w2, self.g_b2]"
   ]
  },
  {
   "cell_type": "markdown",
   "metadata": {
    "deletable": true,
    "editable": true
   },
   "source": [
    "How do we get the random noise vector for the generator you might ask? We make a function for it below, using Numpy's numpy.random library. We want a uniform distribution from range -1.0 to 1.0."
   ]
  },
  {
   "cell_type": "code",
   "execution_count": 7,
   "metadata": {
    "collapsed": true,
    "deletable": true,
    "editable": true
   },
   "outputs": [],
   "source": [
    "# next, we need a function to actually generate a 100d noise vector to feed into our generator\n",
    "def rand_noise_vector(num_vectors, size):\n",
    "    return np.random.uniform(-1.0, 1.0, size = [num_vectors, size]) # we might want a bunch of these to generate many imgs"
   ]
  },
  {
   "cell_type": "markdown",
   "metadata": {
    "deletable": true,
    "editable": true
   },
   "source": [
    "Also, it would be really boring to generate all these images if we couldn't see any of it, so we write a function to plot our image data with matplotlib.pyplot. We can also save our figures with savefig( ) if we like."
   ]
  },
  {
   "cell_type": "code",
   "execution_count": 8,
   "metadata": {
    "collapsed": true,
    "deletable": true,
    "editable": true
   },
   "outputs": [],
   "source": [
    "# a function to plot the genned images\n",
    "def plot(samples, cur_epoch = None):\n",
    "    fig = plt.figure(figsize=(4, 4))\n",
    "    gs = gridspec.GridSpec(4, 4)\n",
    "    gs.update(wspace=0.05, hspace=0.05)\n",
    "\n",
    "    for i, sample in enumerate(samples):\n",
    "        ax = plt.subplot(gs[i])\n",
    "        plt.axis('off')\n",
    "        ax.set_xticklabels([])\n",
    "        ax.set_yticklabels([])\n",
    "        ax.set_aspect('equal')\n",
    "        plt.imshow(sample.reshape(28, 28), cmap='Greys_r')\n",
    "        # if epoch is not specified we just overwrite the existing image\n",
    "        plt.savefig(\"gan{}\".format(\"\" if cur_epoch is None else cur_epoch))\n",
    "        plt.show()\n",
    "\n",
    "    return fig"
   ]
  },
  {
   "cell_type": "markdown",
   "metadata": {
    "deletable": true,
    "editable": true
   },
   "source": [
    "## Training the GAN"
   ]
  },
  {
   "cell_type": "markdown",
   "metadata": {
    "deletable": true,
    "editable": true
   },
   "source": [
    "Here's the important part, where we define our networks and cost functions. First, let's create instances of both the generator and discriminator network, and sample a generated image, an output prediction on a real image, and an output prediction on a fake image. "
   ]
  },
  {
   "cell_type": "code",
   "execution_count": 9,
   "metadata": {
    "collapsed": true,
    "deletable": true,
    "editable": true
   },
   "outputs": [],
   "source": [
    "# create networks\n",
    "gen_net, discriminator_net = generator_network(), discriminator_network()\n",
    "# compute G(z) where z is the random noise vector \n",
    "g_sample = gen_net.generator(z=Z) # this is G(z)\n",
    "# compute d(real) = p(image being real)\n",
    "_, d_logit_real = discriminator_net.discriminator(X) # this is D(x)\n",
    "# compute d(fake) = p(image being real)\n",
    "_, d_logit_fake = discriminator_net.discriminator(g_sample) # this is D(G(z))"
   ]
  },
  {
   "cell_type": "markdown",
   "metadata": {
    "deletable": true,
    "editable": true
   },
   "source": [
    "As mentined in the [slides](https://docs.google.com/presentation/d/17sHIVbt8WN7fEUs9rnhwV6god4493xEjUt9aCYJ4BYM/edit?usp=sharing) we'd like the optimize the generator such that $D(G(z))$ is high. This is equivalent to maximizing the log probability $\\log(D(G(z))$, or minimizing $1 - \\log(D(G(z))$. The `tf.nn.sigmoid_cross_entropy` function will normalize our output logits from our generator and compute this loss function for us. Intuitively, we'd want the cross entropy between $D(G(z))$ and a vector of $1$'s to be zero, this would indicate that we've fooled the discriminator.\n",
    "\n",
    "The reduce mean function just takes the mean value of all of the components in the matrix returned by the cross entropy function. This is just a way of reducing the loss to a single scalar value, instead of a vector or matrix."
   ]
  },
  {
   "cell_type": "code",
   "execution_count": 10,
   "metadata": {
    "collapsed": false,
    "deletable": true,
    "editable": true
   },
   "outputs": [],
   "source": [
    "# train the generator w/fake logits\n",
    "# cross entropy between D(G(z))\n",
    "g_loss = tf.reduce_mean(tf.nn.sigmoid_cross_entropy_with_logits(logits = d_logit_fake, labels = tf.ones_like(d_logit_fake)))"
   ]
  },
  {
   "cell_type": "markdown",
   "metadata": {
    "deletable": true,
    "editable": true
   },
   "source": [
    "Now, let’s think about the discriminator’s point of view. We'd like to optimize is so that $D(x)$ is high and $D(G(z))$ is small, so we can try to maximize $\\log D(x) + \\log(1 - D(G(z))$. This means that we'd like the cross entropy between $D(x)$ and a vector of $1$ 1's to be zero, and the cross entropy between $D(G(z))$ and a vector of $0$'s to be zero."
   ]
  },
  {
   "cell_type": "code",
   "execution_count": 11,
   "metadata": {
    "collapsed": false,
    "deletable": true,
    "editable": true
   },
   "outputs": [],
   "source": [
    "# optimize wrspt to the real logits, so all tha labels are one since we knew they came from real samples\n",
    "d_real_loss = tf.reduce_mean(tf.nn.sigmoid_cross_entropy_with_logits(logits=d_logit_real, labels = tf.ones_like(d_logit_real)))\n",
    "# optimize wrspt to the fake logits, so all the labels are zero since we knew that they came from fake (generated) samples\n",
    "d_fake_loss = tf.reduce_mean(tf.nn.sigmoid_cross_entropy_with_logits(logits = d_logit_fake, labels = tf.zeros_like(d_logit_fake)))\n",
    "# total loss is just the sum\n",
    "d_loss = d_real_loss + d_fake_loss"
   ]
  },
  {
   "cell_type": "markdown",
   "metadata": {
    "deletable": true,
    "editable": true
   },
   "source": [
    "Next, we specify our optimizers. We'll use the Adam Optimizer, which provides an adaptive learning rate and momentum out of the box. We'll also make sure that if we're optimizing the discriminator, then the generator variables are held constant, and vice versa. We'll do this by explicitly passing in a `var_list` to each `minimize` call. "
   ]
  },
  {
   "cell_type": "code",
   "execution_count": 12,
   "metadata": {
    "collapsed": false,
    "deletable": true,
    "editable": true
   },
   "outputs": [],
   "source": [
    "# make sure to only train w/relevant vars\n",
    "adam = tf.train.AdamOptimizer()\n",
    "d_step = adam.minimize(d_loss, var_list = discriminator_net.get_trainable_vars())\n",
    "g_step = adam.minimize(g_loss, var_list = gen_net.get_trainable_vars())"
   ]
  },
  {
   "cell_type": "markdown",
   "metadata": {
    "deletable": true,
    "editable": true
   },
   "source": [
    "Wait... what are we training on again? Oh right! MNIST! Almost forgot...\n",
    "\n",
    "We should probably load our MNIST data set then. To do this, we’ll call a TF function called read_data_sets. This loads in the 55,000 training examples in the MNIST database."
   ]
  },
  {
   "cell_type": "markdown",
   "metadata": {
    "deletable": true,
    "editable": true
   },
   "source": [
    "#### MNIST, MNIST, MNIST"
   ]
  },
  {
   "cell_type": "code",
   "execution_count": 13,
   "metadata": {
    "collapsed": false,
    "deletable": true,
    "editable": true
   },
   "outputs": [
    {
     "name": "stdout",
     "output_type": "stream",
     "text": [
      "Extracting ../../MNIST_data/train-images-idx3-ubyte.gz\n",
      "Extracting ../../MNIST_data/train-labels-idx1-ubyte.gz\n",
      "Extracting ../../MNIST_data/t10k-images-idx3-ubyte.gz\n",
      "Extracting ../../MNIST_data/t10k-labels-idx1-ubyte.gz\n"
     ]
    }
   ],
   "source": [
    "mnist = input_data.read_data_sets('../../MNIST_data', one_hot=True)"
   ]
  },
  {
   "cell_type": "markdown",
   "metadata": {
    "deletable": true,
    "editable": true
   },
   "source": [
    "#### Train and Run Our Model"
   ]
  },
  {
   "cell_type": "markdown",
   "metadata": {
    "deletable": true,
    "editable": true
   },
   "source": [
    "Okay, let's run finally run our model. We will create a Tensorflow session with tf.Session()\n",
    "\n",
    "We will train is with 100,000 epochs, and print out its progress every 1000 epochs, along with a sample image produced by our current generator network. \n",
    "\n",
    "In the end of our training, we print out 16 sample synthetic images. Wow... so natural, so real, so pleasing, so aesthetic. Don't they look like REAL hand written numbers? Real, human-like ugly handwriting, produced by your own machine learning model. Good job! "
   ]
  },
  {
   "cell_type": "code",
   "execution_count": null,
   "metadata": {
    "collapsed": false,
    "deletable": true,
    "editable": true
   },
   "outputs": [
    {
     "name": "stdout",
     "output_type": "stream",
     "text": [
      "Epoch: 0\n",
      "Discriminator loss: 1.402895212173462\n",
      "Generator loss: 2.315256118774414\n"
     ]
    },
    {
     "data": {
      "image/png": "[encoded data removed]",
      "text/plain": [
       "<matplotlib.figure.Figure at 0x1153a6278>"
      ]
     },
     "metadata": {},
     "output_type": "display_data"
    },
    {
     "name": "stdout",
     "output_type": "stream",
     "text": [
      "Epoch: 1000\n",
      "Discriminator loss: 0.5763999223709106\n",
      "Generator loss: 2.6956071853637695\n"
     ]
    },
    {
     "data": {
      "image/png": "[encoded data removed]",
      "text/plain": [
       "<matplotlib.figure.Figure at 0x1153d6f60>"
      ]
     },
     "metadata": {},
     "output_type": "display_data"
    }
   ],
   "source": [
    "%matplotlib inline\n",
    "with tf.Session() as sess:\n",
    "    sess.run(tf.global_variables_initializer())\n",
    "    i = 0\n",
    "    for epoch in range(100000):\n",
    "        X_mb, _ = mnist.train.next_batch(128)\n",
    "        _, cur_loss_d = sess.run([d_step, d_loss], feed_dict = {X: X_mb, Z: rand_noise_vector(128, 100)})\n",
    "        _, cur_loss_g = sess.run([g_step, g_loss], feed_dict = {Z: rand_noise_vector(128, 100)})\n",
    "        _, cur_loss_g = sess.run([g_step, g_loss], feed_dict = {Z: rand_noise_vector(128, 100)})\n",
    "        if epoch % 1000 == 0:\n",
    "            print(\"Epoch: {}\".format(epoch))\n",
    "            print(\"Discriminator loss: {}\".format(cur_loss_d))\n",
    "            print(\"Generator loss: {}\".format(cur_loss_g))\n",
    "            samples = sess.run(g_sample, feed_dict={Z: rand_noise_vector(1, 100)})\n",
    "            plot(samples, epoch)\n",
    "    samples = sess.run(g_sample, feed_dict={Z: rand_noise_vector(16, 100)})\n",
    "    plot(samples) # 16 of em"
   ]
  },
  {
   "cell_type": "markdown",
   "metadata": {
    "deletable": true,
    "editable": true
   },
   "source": [
    "#### Exercises\n",
    "- Try changing up the discriminator model. In particular, what happens if you add more hidden or convolutional layers to the discriminator network?\n",
    "- Read up about deconvolutions/transposed convolutions and try to implement a convolutional architecture for the generator. If you do this, you will get something close to the DCGAN architecture. "
   ]
  },
  {
   "cell_type": "markdown",
   "metadata": {
    "deletable": true,
    "editable": true
   },
   "source": [
    "## Closing Thoughts\n",
    "In this post, we showed how two networks were able to play a minimax game in order to capture the data distribution of the MNIST digits and generate similar looking samples. With applications in video frame prediction, text-image mappings, and more, GANs are definitely the hottest topic in deep learning. Hopefully, with this tutorial, you’ve gained a better understanding of how these networks work in practice and how you can build your own with Tensorflow!"
   ]
  },
  {
   "cell_type": "code",
   "execution_count": null,
   "metadata": {
    "collapsed": true
   },
   "outputs": [],
   "source": []
  }
 ],
 "metadata": {
  "kernelspec": {
   "display_name": "Python 3",
   "language": "python",
   "name": "python3"
  },
  "language_info": {
   "codemirror_mode": {
    "name": "ipython",
    "version": 3
   },
   "file_extension": ".py",
   "mimetype": "text/x-python",
   "name": "python",
   "nbconvert_exporter": "python",
   "pygments_lexer": "ipython3",
   "version": "3.5.0"
  }
 },
 "nbformat": 4,
 "nbformat_minor": 0
}
